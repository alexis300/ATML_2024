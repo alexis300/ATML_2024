{
 "cells": [
  {
   "cell_type": "markdown",
   "metadata": {},
   "source": [
    "# Computing expected values"
   ]
  },
  {
   "cell_type": "markdown",
   "metadata": {},
   "source": [
    "In this notebook we use Python to compute expected values of random variables.\n",
    "This is a very important \"ingredient\" in dynamic programming methods,\n",
    "used to evaluate and find policies in small Markov Decision Process settings."
   ]
  },
  {
   "cell_type": "markdown",
   "metadata": {},
   "source": [
    "*<span style=\"color:red\">Below, the parts indicated by `#??` need to be filled in!</span>*"
   ]
  },
  {
   "cell_type": "markdown",
   "metadata": {},
   "source": [
    "### Example 1: normal dice"
   ]
  },
  {
   "cell_type": "markdown",
   "metadata": {},
   "source": [
    "Consider a fair, 6-sided dice. We want to find the expected value of the number shown after a roll.\n",
    "This can easily be computed to be $1/6 \\sum_{k=1}^6 k = 3.5$.\n",
    "In more complicated settings, it is often easier to iterate over possible outcomes and compute the expectation in a more naive fashion."
   ]
  },
  {
   "cell_type": "code",
   "execution_count": 2,
   "metadata": {},
   "outputs": [
    {
     "name": "stdout",
     "output_type": "stream",
     "text": [
      "3.5\n"
     ]
    }
   ],
   "source": [
    "## Function that computes the expected payout\n",
    "def ePayout():\n",
    "    numbers = list(range(1,7)) # ?? Possible numbers shown\n",
    "    probs = [1/6] * 6# Probability of each number\n",
    "    E = 0 # A: Initialize at 0\n",
    "    # 1) Expectation = 0\n",
    "    # 2) You have a list of number I over which you iterate.\n",
    "    # 3) Assign the porbability to the number I and do a sum of each iteration\n",
    "    for n, p in zip(numbers, probs): # Zip together the number to the probab\n",
    "        E += n * p #Compute \"contribution\" of this outcome\n",
    "    return E\n",
    "\n",
    "print(ePayout())"
   ]
  },
  {
   "cell_type": "markdown",
   "metadata": {},
   "source": [
    "### Example 2: $n$-sided dice"
   ]
  },
  {
   "cell_type": "markdown",
   "metadata": {},
   "source": [
    "Consider the following \"game\":\n",
    "The player rolls a fair $n$-sided dice (labelled $1, 2, \\dots, n$) and receives a payout of $X^2$,\n",
    "where $X$ denotes the number shown by the dice.\n",
    "What is the expected payout?"
   ]
  },
  {
   "cell_type": "code",
   "execution_count": 6,
   "metadata": {},
   "outputs": [
    {
     "name": "stdout",
     "output_type": "stream",
     "text": [
      "2.5\n"
     ]
    }
   ],
   "source": [
    "## Function that computes the expected payout for n\n",
    "def ePayout(n):\n",
    "    numbers = list(range(1,n + 1))\n",
    "    probs = [1/n] * n\n",
    "    E = 0\n",
    "    for x, p in zip(numbers,probs):\n",
    "        E += x**2 * p\n",
    "    return E\n",
    "\n",
    "# Test for some value of n\n",
    "print(ePayout(2))"
   ]
  },
  {
   "cell_type": "markdown",
   "metadata": {},
   "source": [
    "*Bonus: this value can also be derived algebraically, using the identity $\\sum_{x=1}^n x^2 = n(n+1)(2n+1)/6$.*"
   ]
  },
  {
   "cell_type": "markdown",
   "metadata": {},
   "source": [
    "### Example 3: two-step game / Take a game and translate it to code:"
   ]
  },
  {
   "cell_type": "markdown",
   "metadata": {},
   "source": [
    "\n",
    "\n",
    "Consider the following \"game\":\n",
    "The player rolls a fair $n$-sided dice,\n",
    "let $X$ denote the result of this roll.\n",
    "If $X$ is odd, the player receives a payout of $-1$.\n",
    "If $X$ is even, the player draws a card from a deck labelled $(-2, -1, 0, 1, \\dots, X/2)$\n",
    "and receives a payout equal to the number drawn.\n",
    "What is the expected payout?"
   ]
  },
  {
   "cell_type": "code",
   "execution_count": 8,
   "metadata": {},
   "outputs": [
    {
     "name": "stdout",
     "output_type": "stream",
     "text": [
      "-1.0000\n",
      "-0.7500\n",
      "-0.8333\n",
      "-0.6250\n"
     ]
    }
   ],
   "source": [
    "## Function that computes the expected payout for n, m\n",
    "def ePayout(n):\n",
    "    xnumbers = list(range(1, n+1))\n",
    "    xprobs = [1/n] * n\n",
    "    E = 0\n",
    "    for x, px in zip(xnumbers, xprobs):\n",
    "        if x % 2 != 0:\n",
    "            E += (-1) * px\n",
    "        else:\n",
    "            # (x is even)\n",
    "            ynumbers = list(range(-2, x//2 + 1)) # A range can not have a decimal. Needs to be an integer so use //\n",
    "            yN = len(ynumbers)\n",
    "            yprobs = [1/yN] * yN\n",
    "            for y, py in zip(ynumbers, yprobs):\n",
    "                E += y * py * px\n",
    "    return E\n",
    "\n",
    "# Check values for some n\n",
    "for x in range(1, 5):\n",
    "    print(f'{ePayout(x):.4f}')"
   ]
  },
  {
   "cell_type": "markdown",
   "metadata": {},
   "source": [
    "### Monte Carlo"
   ]
  },
  {
   "cell_type": "markdown",
   "metadata": {},
   "source": [
    "The expectations above can also be estimated using Monte-Carlo estimation,\n",
    "repeating the experiment $N$ times for some large $N$."
   ]
  },
  {
   "cell_type": "code",
   "execution_count": 10,
   "metadata": {},
   "outputs": [],
   "source": [
    "# We need to generate random numbers to do this\n",
    "import random"
   ]
  },
  {
   "cell_type": "code",
   "execution_count": 11,
   "metadata": {},
   "outputs": [
    {
     "data": {
      "text/plain": [
       "3.558"
      ]
     },
     "execution_count": 11,
     "metadata": {},
     "output_type": "execute_result"
    }
   ],
   "source": [
    "## Example 1\n",
    "def mcPayout(N): # N estle nombre de valeur simulées\n",
    "    xList = [0] * N \n",
    "    for i in range(N):\n",
    "        xList[i] = random.randint(1, 6)\n",
    "    return sum(xList) / N\n",
    "\n",
    "# Run MC\n",
    "mcPayout(1000)"
   ]
  },
  {
   "cell_type": "code",
   "execution_count": 14,
   "metadata": {},
   "outputs": [
    {
     "data": {
      "text/plain": [
       "0.049"
      ]
     },
     "execution_count": 14,
     "metadata": {},
     "output_type": "execute_result"
    }
   ],
   "source": [
    "## Example 2\n",
    "def mcPayout(N, n):\n",
    "    xlist = [0] * N\n",
    "    for i in range(N):\n",
    "        dice = random.randint(1,n)\n",
    "        payout = dice**2\n",
    "        xlist[i] = payout\n",
    "\n",
    "        return sum(xlist)/N\n",
    "\n",
    "# Run MC\n",
    "mcPayout(1000, 7)"
   ]
  },
  {
   "cell_type": "code",
   "execution_count": 16,
   "metadata": {},
   "outputs": [
    {
     "name": "stdout",
     "output_type": "stream",
     "text": [
      "None\n",
      "0.0\n",
      "0.001\n",
      "-0.001\n"
     ]
    }
   ],
   "source": [
    "## Example 3\n",
    "def mcPayout(N, n):\n",
    "    xlist = [0] * N\n",
    "    for i in range(N):\n",
    "        dice = random.randint(1, n)\n",
    "        if dice % 2 != 0:\n",
    "            xlist[i] = -1\n",
    "        else:\n",
    "            cards = list(range(-2,dice // 2 + 1))\n",
    "            xlist[i] = random.choice(cards)\n",
    "\n",
    "            return sum(xlist) / N\n",
    "\n",
    "\n",
    "# Run MC\n",
    "for x in range(1, 5):\n",
    "    print(mcPayout(1000, x))"
   ]
  }
 ],
 "metadata": {
  "kernelspec": {
   "display_name": "Python 3",
   "language": "python",
   "name": "python3"
  },
  "language_info": {
   "codemirror_mode": {
    "name": "ipython",
    "version": 3
   },
   "file_extension": ".py",
   "mimetype": "text/x-python",
   "name": "python",
   "nbconvert_exporter": "python",
   "pygments_lexer": "ipython3",
   "version": "3.10.6"
  }
 },
 "nbformat": 4,
 "nbformat_minor": 2
}
